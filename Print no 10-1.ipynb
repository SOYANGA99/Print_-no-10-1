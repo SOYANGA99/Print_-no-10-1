{
 "cells": [
  {
   "cell_type": "code",
   "execution_count": 2,
   "id": "62596e5f",
   "metadata": {},
   "outputs": [
    {
     "name": "stdout",
     "output_type": "stream",
     "text": [
      "The nos are:- 10\n",
      "The nos are:- 9\n",
      "The nos are:- 8\n",
      "The nos are:- 7\n",
      "The nos are:- 6\n",
      "The nos are:- 5\n",
      "The nos are:- 4\n",
      "The nos are:- 3\n",
      "The nos are:- 2\n",
      "The nos are:- 1\n"
     ]
    }
   ],
   "source": [
    "no=10\n",
    "while(no>=1):\n",
    "    print(\"The nos are:-\",no)\n",
    "    no -= 1"
   ]
  },
  {
   "cell_type": "code",
   "execution_count": 15,
   "id": "93207e2a",
   "metadata": {},
   "outputs": [
    {
     "name": "stdout",
     "output_type": "stream",
     "text": [
      "The nos are:- 10\n",
      "The nos are:- 9\n",
      "The nos are:- 8\n",
      "The nos are:- 7\n",
      "The nos are:- 6\n",
      "The nos are:- 5\n",
      "The nos are:- 4\n",
      "The nos are:- 3\n",
      "The nos are:- 2\n",
      "The nos are:- 1\n"
     ]
    }
   ],
   "source": [
    "for i in range(10, 0, -1):\n",
    "    print(\"The nos are:-\",i)"
   ]
  },
  {
   "cell_type": "code",
   "execution_count": 20,
   "id": "5c02e183",
   "metadata": {},
   "outputs": [
    {
     "ename": "IndentationError",
     "evalue": "unexpected indent (Temp/ipykernel_6496/1232297696.py, line 2)",
     "output_type": "error",
     "traceback": [
      "\u001b[1;36m  File \u001b[1;32m\"C:\\Users\\soyan\\AppData\\Local\\Temp/ipykernel_6496/1232297696.py\"\u001b[1;36m, line \u001b[1;32m2\u001b[0m\n\u001b[1;33m    for no in range(no, 2, -2):\u001b[0m\n\u001b[1;37m    ^\u001b[0m\n\u001b[1;31mIndentationError\u001b[0m\u001b[1;31m:\u001b[0m unexpected indent\n"
     ]
    }
   ],
   "source": [
    "no=int(input(\"Input your start no:-\"))\n",
    "for no in range(no, 2, -2):\n",
    "       print(\"The nos are:-\", no)"
   ]
  },
  {
   "cell_type": "code",
   "execution_count": null,
   "id": "0fb00816",
   "metadata": {},
   "outputs": [],
   "source": []
  }
 ],
 "metadata": {
  "kernelspec": {
   "display_name": "Python 3 (ipykernel)",
   "language": "python",
   "name": "python3"
  },
  "language_info": {
   "codemirror_mode": {
    "name": "ipython",
    "version": 3
   },
   "file_extension": ".py",
   "mimetype": "text/x-python",
   "name": "python",
   "nbconvert_exporter": "python",
   "pygments_lexer": "ipython3",
   "version": "3.9.7"
  }
 },
 "nbformat": 4,
 "nbformat_minor": 5
}
